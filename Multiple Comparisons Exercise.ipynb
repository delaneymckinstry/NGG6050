{
 "cells": [
  {
   "cell_type": "code",
   "execution_count": 12,
   "id": "fe4af6d1-6edc-4165-a649-9f7bab66d9d5",
   "metadata": {},
   "outputs": [
    {
     "name": "stdout",
     "output_type": "stream",
     "text": [
      "Number of significant t-tests (p < 0.05): 41\n"
     ]
    }
   ],
   "source": [
    "import numpy as np\n",
    "import scipy.stats as stats\n",
    "import matplotlib.pyplot as plt\n",
    "\n",
    "#Simulate t-tests\n",
    "np.random.seed(42)\n",
    "n_tests = 1000\n",
    "sample_size = 30\n",
    "mean1, mean2 = 0, 0  # Equal means\n",
    "std_dev = 1\n",
    "\n",
    "p_values = []\n",
    "\n",
    "for _ in range(n_tests):\n",
    "    sample1 = np.random.normal(mean1, std_dev, sample_size)\n",
    "    sample2 = np.random.normal(mean2, std_dev, sample_size)\n",
    "    t_stat, p_val = stats.ttest_ind(sample1, sample2)\n",
    "    p_values.append(p_val)\n",
    "\n",
    "p_values = np.array(p_values)\n",
    "\n",
    "#calculate how many are significant\n",
    "num_significant = np.sum(p_values < 0.05)\n",
    "print(f\"Number of significant t-tests (p < 0.05): {num_significant}\")\n"
   ]
  },
  {
   "cell_type": "code",
   "execution_count": 11,
   "id": "13da356e-42ee-4c90-b4c6-7e995b3ff458",
   "metadata": {},
   "outputs": [
    {
     "name": "stdout",
     "output_type": "stream",
     "text": [
      "Significant results after Bonferroni correction: 0\n"
     ]
    }
   ],
   "source": [
    "#Bonferroni Correction\n",
    "alpha = 0.05\n",
    "bonferroni_alpha = alpha / n_tests\n",
    "significant_bonferroni = np.sum(p_values < bonferroni_alpha)\n",
    "\n",
    "print(f\"Significant results after Bonferroni correction: {significant_bonferroni}\")"
   ]
  },
  {
   "cell_type": "code",
   "execution_count": 15,
   "id": "1194190b-bd44-4afd-8fa7-b54775686b19",
   "metadata": {},
   "outputs": [
    {
     "name": "stdout",
     "output_type": "stream",
     "text": [
      "No significant results after Benjamini-Hochberg correction\n"
     ]
    }
   ],
   "source": [
    "#Benjamini-Hochberg Procedure\n",
    "def benjamini_hochberg(p_vals, q):\n",
    "    p_vals_sorted = np.sort(p_vals)\n",
    "    n = len(p_vals_sorted)\n",
    "    critical_values = (np.arange(1, n+1) / n) * q\n",
    "    significant = np.where(p_vals_sorted <= critical_values)[0]\n",
    "    if len(significant) > 0:\n",
    "        return p_vals_sorted[significant[-1]]  # The largest significant p-value\n",
    "    else:\n",
    "        return None\n",
    "\n",
    "bh_threshold = benjamini_hochberg(p_values, 0.05)\n",
    "\n",
    "# Check if bh_threshold is None\n",
    "if bh_threshold is not None:\n",
    "    significant_bh = np.sum(p_values <= bh_threshold)\n",
    "    print(f\"Step 3 - Significant results after Benjamini-Hochberg correction: {significant_bh}\")\n",
    "else:\n",
    "    print(\"No significant results after Benjamini-Hochberg correction\")"
   ]
  },
  {
   "cell_type": "code",
   "execution_count": 16,
   "id": "61bb761c-48b3-4b08-9f59-d23608cd5e6d",
   "metadata": {},
   "outputs": [
    {
     "name": "stdout",
     "output_type": "stream",
     "text": [
      "Significant results after Bonferroni correction with different means: 344\n",
      "Significant results after Benjamini-Hochberg correction with different means: 964\n"
     ]
    }
   ],
   "source": [
    "#Set new means and re-run t-tests\n",
    "mean1, mean2 = 1, 2  # Change means\n",
    "p_values_diff_means = []\n",
    "\n",
    "for _ in range(n_tests):\n",
    "    sample1 = np.random.normal(mean1, std_dev, sample_size)\n",
    "    sample2 = np.random.normal(mean2, std_dev, sample_size)\n",
    "    t_stat, p_val = stats.ttest_ind(sample1, sample2)\n",
    "    p_values_diff_means.append(p_val)\n",
    "\n",
    "p_values_diff_means = np.array(p_values_diff_means)\n",
    "\n",
    "# Bonferroni Correction with different means\n",
    "significant_bonferroni_diff_means = np.sum(p_values_diff_means < bonferroni_alpha)\n",
    "print(f\"Significant results after Bonferroni correction with different means: {significant_bonferroni_diff_means}\")\n",
    "\n",
    "# Benjamini-Hochberg Procedure with different means\n",
    "bh_threshold_diff_means = benjamini_hochberg(p_values_diff_means, 0.05)\n",
    "\n",
    "# Check if bh_threshold_diff_means is None\n",
    "if bh_threshold_diff_means is not None:\n",
    "    significant_bh_diff_means = np.sum(p_values_diff_means <= bh_threshold_diff_means)\n",
    "    print(f\"Significant results after Benjamini-Hochberg correction with different means: {significant_bh_diff_means}\")\n",
    "else:\n",
    "    print(\"No significant results after Benjamini-Hochberg correction with different means\")\n"
   ]
  },
  {
   "cell_type": "code",
   "execution_count": 17,
   "id": "72464c0e-8c4c-4694-b773-3de0c559842f",
   "metadata": {},
   "outputs": [
    {
     "name": "stdout",
     "output_type": "stream",
     "text": [
      "Significant results after Bonferroni correction with means 1 and 5: 1000\n",
      "Significant results after Benjamini-Hochberg correction with means 1 and 5: 1000\n"
     ]
    }
   ],
   "source": [
    "#Set larger difference in means and re-run t-tests\n",
    "mean1, mean2 = 1, 5  # Greater difference in means\n",
    "p_values_larger_diff = []\n",
    "\n",
    "for _ in range(n_tests):\n",
    "    sample1 = np.random.normal(mean1, std_dev, sample_size)\n",
    "    sample2 = np.random.normal(mean2, std_dev, sample_size)\n",
    "    t_stat, p_val = stats.ttest_ind(sample1, sample2)\n",
    "    p_values_larger_diff.append(p_val)\n",
    "\n",
    "p_values_larger_diff = np.array(p_values_larger_diff)\n",
    "\n",
    "# Bonferroni Correction with means of 1 and 5\n",
    "significant_bonferroni_larger_diff = np.sum(p_values_larger_diff < bonferroni_alpha)\n",
    "print(f\"Significant results after Bonferroni correction with means 1 and 5: {significant_bonferroni_larger_diff}\")\n",
    "\n",
    "# Benjamini-Hochberg Procedure with means of 1 and 5\n",
    "bh_threshold_larger_diff = benjamini_hochberg(p_values_larger_diff, 0.05)\n",
    "\n",
    "if bh_threshold_larger_diff is not None:\n",
    "    significant_bh_larger_diff = np.sum(p_values_larger_diff <= bh_threshold_larger_diff)\n",
    "    print(f\"Significant results after Benjamini-Hochberg correction with means 1 and 5: {significant_bh_larger_diff}\")\n",
    "else:\n",
    "    print(\"No significant results after Benjamini-Hochberg correction with means 1 and 5\")"
   ]
  },
  {
   "cell_type": "code",
   "execution_count": null,
   "id": "0fbd6ce9-0c8f-4ead-ad13-4cad8e88dcc6",
   "metadata": {},
   "outputs": [],
   "source": []
  }
 ],
 "metadata": {
  "kernelspec": {
   "display_name": "Python 3 (ipykernel)",
   "language": "python",
   "name": "python3"
  },
  "language_info": {
   "codemirror_mode": {
    "name": "ipython",
    "version": 3
   },
   "file_extension": ".py",
   "mimetype": "text/x-python",
   "name": "python",
   "nbconvert_exporter": "python",
   "pygments_lexer": "ipython3",
   "version": "3.12.5"
  }
 },
 "nbformat": 4,
 "nbformat_minor": 5
}
As the difference between the means increases, both the Bonferroni and Benjamini-Hochberg corrections have more significant results.
