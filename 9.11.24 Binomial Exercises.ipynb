{
 "cells": [
  {
   "cell_type": "code",
   "execution_count": 1,
   "id": "6e07ee36-0fcb-4624-be98-86abba0eb5a8",
   "metadata": {},
   "outputs": [
    {
     "name": "stdout",
     "output_type": "stream",
     "text": [
      "Probability of releasing 0 quanta: 0.1074\n",
      "Probability of releasing 1 quanta: 0.2684\n",
      "Probability of releasing 2 quanta: 0.3020\n",
      "Probability of releasing 3 quanta: 0.2013\n",
      "Probability of releasing 4 quanta: 0.0881\n",
      "Probability of releasing 5 quanta: 0.0264\n",
      "Probability of releasing 6 quanta: 0.0055\n",
      "Probability of releasing 7 quanta: 0.0008\n",
      "Probability of releasing 8 quanta: 0.0001\n",
      "Probability of releasing 9 quanta: 0.0000\n",
      "Probability of releasing 10 quanta: 0.0000\n"
     ]
    }
   ],
   "source": [
    "import numpy as np\n",
    "from scipy import stats\n",
    "from scipy.stats import binom\n",
    "n = 10  # number of available quanta\n",
    "p = 0.2  # release probability\n",
    "\n",
    "# Calculate the probability for 0 to 10 quanta\n",
    "probabilities = [binom.pmf(k, n, p) for k in range(n + 1)]\n",
    "for k, prob in enumerate(probabilities):\n",
    "    print(f'Probability of releasing {k} quanta: {prob:.4f}')"
   ]
  },
  {
   "cell_type": "code",
   "execution_count": 2,
   "id": "a8aa6ce1-c31e-4c13-97bb-4040cdcda8f5",
   "metadata": {},
   "outputs": [
    {
     "name": "stdout",
     "output_type": "stream",
     "text": [
      "Probability of 8 quanta released with p=0.1: 0.000016\n",
      "Probability of 8 quanta released with p=0.2: 0.002015\n",
      "Probability of 8 quanta released with p=0.3: 0.023180\n",
      "Probability of 8 quanta released with p=0.4: 0.091821\n",
      "Probability of 8 quanta released with p=0.5: 0.183289\n",
      "Probability of 8 quanta released with p=0.6: 0.206598\n",
      "Probability of 8 quanta released with p=0.7: 0.126202\n",
      "Probability of 8 quanta released with p=0.8: 0.032244\n",
      "Probability of 8 quanta released with p=0.9: 0.001293\n",
      "Probability of 8 quanta released with p=1.0: 0.000000\n"
     ]
    }
   ],
   "source": [
    "#Exercise 2\n",
    "n = 14  # available quanta\n",
    "measured_quanta = 8  # result of the experiment\n",
    "\n",
    "# Likelihood for a range of release probabilities\n",
    "release_probs = np.arange(0.1, 1.1, 0.1)\n",
    "for p in release_probs:\n",
    "    prob = binom.pmf(measured_quanta, n, p)\n",
    "    print(f'Probability of {measured_quanta} quanta released with p={p:.1f}: {prob:.6f}')\n"
   ]
  },
  {
   "cell_type": "code",
   "execution_count": 3,
   "id": "7d42e8dc-a1f1-4f94-afab-e14d065c3ef2",
   "metadata": {},
   "outputs": [
    {
     "name": "stdout",
     "output_type": "stream",
     "text": [
      "p=0.1, Likelihood: 0.000000, Log-likelihood: -15.904745\n",
      "p=0.2, Likelihood: 0.000173, Log-likelihood: -8.660577\n",
      "p=0.3, Likelihood: 0.004551, Log-likelihood: -5.392502\n",
      "p=0.4, Likelihood: 0.018970, Log-likelihood: -3.964895\n",
      "p=0.5, Likelihood: 0.022396, Log-likelihood: -3.798852\n",
      "p=0.6, Likelihood: 0.008431, Log-likelihood: -4.775825\n",
      "p=0.7, Likelihood: 0.000836, Log-likelihood: -7.087097\n",
      "p=0.8, Likelihood: 0.000011, Log-likelihood: -11.433166\n",
      "p=0.9, Likelihood: 0.000000, Log-likelihood: -20.299194\n",
      "p=1.0, Likelihood: 0.000000, Log-likelihood: -inf\n",
      "Maximum likelihood: 0.022396\n"
     ]
    },
    {
     "name": "stderr",
     "output_type": "stream",
     "text": [
      "/var/folders/vk/7ggxn7c560q_d3j227142pcm0000gp/T/ipykernel_25126/826731743.py:10: RuntimeWarning: divide by zero encountered in log\n",
      "  log_likelihood = np.sum([np.log(binom.pmf(m, n, p)) for m in measurements])\n"
     ]
    }
   ],
   "source": [
    "#Exercise 3\n",
    "measurements = [8, 5]\n",
    "release_probs = np.linspace(0.1, 1.0, 10)\n",
    "\n",
    "# Compute likelihood and log-likelihood\n",
    "likelihoods = []\n",
    "log_likelihoods = []\n",
    "for p in release_probs:\n",
    "    likelihood = np.prod([binom.pmf(m, n, p) for m in measurements])\n",
    "    log_likelihood = np.sum([np.log(binom.pmf(m, n, p)) for m in measurements])\n",
    "    likelihoods.append(likelihood)\n",
    "    log_likelihoods.append(log_likelihood)\n",
    "    print(f'p={p:.1f}, Likelihood: {likelihood:.6f}, Log-likelihood: {log_likelihood:.6f}')\n",
    "\n",
    "# Maximum likelihood estimate\n",
    "max_likelihood = max(likelihoods)\n",
    "print(f'Maximum likelihood: {max_likelihood:.6f}')\n"
   ]
  },
  {
   "cell_type": "code",
   "execution_count": 4,
   "id": "f0e453a8-ce20-4fc4-aae8-7c754290215c",
   "metadata": {},
   "outputs": [
    {
     "name": "stdout",
     "output_type": "stream",
     "text": [
      "Maximum likelihood estimate of p (p-hat): 0.44\n"
     ]
    }
   ],
   "source": [
    "#Exercise 4\n",
    "import collections\n",
    "\n",
    "counts = {2: 3, 3: 7, 4: 10, 5: 19, 6: 26, 7: 16, 8: 16, 9: 5, 10: 5}\n",
    "total_trials = 100\n",
    "\n",
    "def mle_p(counts, n, resolution=0.01):\n",
    "    ps = np.arange(0, 1 + resolution, resolution)\n",
    "    likelihoods = []\n",
    "    for p in ps:\n",
    "        likelihood = np.prod([binom.pmf(k, n, p)**count for k, count in counts.items()])\n",
    "        likelihoods.append(likelihood)\n",
    "    max_p = ps[np.argmax(likelihoods)]\n",
    "    return max_p\n",
    "\n",
    "p_hat = mle_p(counts, 14)\n",
    "print(f'Maximum likelihood estimate of p (p-hat): {p_hat:.2f}')\n"
   ]
  },
  {
   "cell_type": "code",
   "execution_count": 5,
   "id": "e9f07012-dcba-4d02-8d60-8dd8eb2271dd",
   "metadata": {},
   "outputs": [
    {
     "name": "stdout",
     "output_type": "stream",
     "text": [
      "Probability of observing 7 quanta with p = 0.3: 0.061813\n",
      "Fail to reject the Null Hypothesis: no significant effect of temperature\n"
     ]
    }
   ],
   "source": [
    "#Exercise 5\n",
    "measured_quanta = 7\n",
    "true_p = 0.3  # Null hypothesis: no effect\n",
    "n = 14  # available quanta\n",
    "\n",
    "# Probability of observing 7 quanta under the null hypothesis\n",
    "null_prob = binom.pmf(measured_quanta, n, true_p)\n",
    "print(f'Probability of observing 7 quanta with p = {true_p}: {null_prob:.6f}')\n",
    "\n",
    "# Conclusion: compare this probability to a significance level (e.g., alpha = 0.05)\n",
    "alpha = 0.05\n",
    "if null_prob < alpha:\n",
    "    print('Reject the Null Hypothesis: temperature had an effect')\n",
    "else:\n",
    "    print('Fail to reject the Null Hypothesis: no significant effect of temperature')\n"
   ]
  },
  {
   "cell_type": "code",
   "execution_count": null,
   "id": "bdc4c7af-caf6-46e6-819a-af35218cbded",
   "metadata": {},
   "outputs": [],
   "source": []
  }
 ],
 "metadata": {
  "kernelspec": {
   "display_name": "Python 3 (ipykernel)",
   "language": "python",
   "name": "python3"
  },
  "language_info": {
   "codemirror_mode": {
    "name": "ipython",
    "version": 3
   },
   "file_extension": ".py",
   "mimetype": "text/x-python",
   "name": "python",
   "nbconvert_exporter": "python",
   "pygments_lexer": "ipython3",
   "version": "3.12.5"
  }
 },
 "nbformat": 4,
 "nbformat_minor": 5
}
